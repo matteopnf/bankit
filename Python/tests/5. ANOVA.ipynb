{
 "cells": [
  {
   "cell_type": "markdown",
   "metadata": {},
   "source": [
    "Sign test"
   ]
  },
  {
   "cell_type": "code",
   "execution_count": 1,
   "metadata": {},
   "outputs": [
    {
     "name": "stdout",
     "output_type": "stream",
     "text": [
      "Manual Calculation:\n",
      "F-statistic: 35.31921331316188\n",
      "p-value: 9.375517236565045e-06\n",
      "\n",
      "Using scipy.stats.f_oneway:\n",
      "F-statistic: 35.31921331316186\n",
      "p-value: 9.375517236589047e-06\n",
      "\n",
      "The manually computed values match the scipy values!\n"
     ]
    }
   ],
   "source": [
    "import numpy as np\n",
    "from scipy import stats\n",
    "\n",
    "# Example data: 3 treatments with different sample sizes\n",
    "data = {\n",
    "    'A1': [23, 20, 22, 21, 20],\n",
    "    'A2': [26, 30, 29, 28],\n",
    "    'A3': [21, 19, 17, 18, 20, 22]\n",
    "}\n",
    "\n",
    "# Calculate group means and overall mean\n",
    "group_means = {k: np.mean(v) for k, v in data.items()}\n",
    "overall_mean = np.mean([item for sublist in data.values() for item in sublist])\n",
    "\n",
    "# Calculate total sample size\n",
    "n = sum([len(v) for v in data.values()])\n",
    "k = len(data)  # number of groups\n",
    "\n",
    "# Calculate DB (between-group deviance)\n",
    "DB = sum(len(v) * (group_means[k] - overall_mean) ** 2 for k, v in data.items())\n",
    "\n",
    "# Calculate DW (within-group deviance)\n",
    "DW = sum(sum((yi - group_means[k]) ** 2 for yi in v) for k, v in data.items())\n",
    "\n",
    "# Calculate mean squares\n",
    "MSB = DB / (k - 1)\n",
    "MSW = DW / (n - k)\n",
    "\n",
    "# Calculate F-statistic\n",
    "F_manual = MSB / MSW\n",
    "\n",
    "# Calculate the p-value manually using the F-distribution\n",
    "p_value_manual = 1 - stats.f.cdf(F_manual, k - 1, n - k)\n",
    "\n",
    "# Using scipy.stats to calculate F-statistic and p-value\n",
    "F_scipy, p_value_scipy = stats.f_oneway(*data.values())\n",
    "\n",
    "# Print results\n",
    "print(\"Manual Calculation:\")\n",
    "print(f\"F-statistic: {F_manual}\")\n",
    "print(f\"p-value: {p_value_manual}\")\n",
    "\n",
    "print(\"\\nUsing scipy.stats.f_oneway:\")\n",
    "print(f\"F-statistic: {F_scipy}\")\n",
    "print(f\"p-value: {p_value_scipy}\")\n",
    "\n",
    "# Verification\n",
    "if np.isclose(F_manual, F_scipy) and np.isclose(p_value_manual, p_value_scipy):\n",
    "    print(\"\\nThe manually computed values match the scipy values!\")\n",
    "else:\n",
    "    print(\"\\nThere is a discrepancy between the manually computed values and scipy values.\")"
   ]
  }
 ],
 "metadata": {
  "kernelspec": {
   "display_name": "Python 3",
   "language": "python",
   "name": "python3"
  },
  "language_info": {
   "codemirror_mode": {
    "name": "ipython",
    "version": 3
   },
   "file_extension": ".py",
   "mimetype": "text/x-python",
   "name": "python",
   "nbconvert_exporter": "python",
   "pygments_lexer": "ipython3",
   "version": "3.12.5"
  }
 },
 "nbformat": 4,
 "nbformat_minor": 2
}
