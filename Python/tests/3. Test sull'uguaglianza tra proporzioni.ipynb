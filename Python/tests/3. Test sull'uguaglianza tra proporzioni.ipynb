{
 "cells": [
  {
   "cell_type": "code",
   "execution_count": 6,
   "metadata": {},
   "outputs": [],
   "source": [
    "import numpy as np\n",
    "import statsmodels.api as sm\n",
    "from scipy.stats import norm"
   ]
  },
  {
   "cell_type": "code",
   "execution_count": 7,
   "metadata": {},
   "outputs": [],
   "source": [
    "# Sample data\n",
    "\n",
    "n1 = 100  # Sample size of group 1\n",
    "successes1 = 50  # Number of successes in group 1\n",
    "p1 = successes1 / n1\n",
    "\n",
    "n2 = 120  # Sample size of group 2\n",
    "successes2 = 60  # Number of successes in group 2\n",
    "p2 = successes2 / n2\n",
    "\n",
    "# Combined proportion\n",
    "p_combined = (successes1 + successes2) / (n1 + n2)"
   ]
  },
  {
   "cell_type": "code",
   "execution_count": 8,
   "metadata": {},
   "outputs": [],
   "source": [
    "# Calculate the standard error\n",
    "se = np.sqrt(p_combined * (1 - p_combined) * (1/n1 + 1/n2))\n",
    "\n",
    "# Calculate the z-value manually\n",
    "z_manual = (p1 - p2) / se # shouldn't it be + (not -)\n",
    "\n",
    "# Calculate the p-value manually\n",
    "p_value_manual = 2 * (1 - norm.cdf(abs(z_manual)))"
   ]
  },
  {
   "cell_type": "code",
   "execution_count": 9,
   "metadata": {},
   "outputs": [],
   "source": [
    "# Now, let's compare it with statsmodels\n",
    "count = np.array([successes1, successes2])\n",
    "nobs = np.array([n1, n2])\n",
    "\n",
    "# Using statsmodels to calculate the test statistic and p-value\n",
    "z_stat, p_value_lib = sm.stats.proportions_ztest(count, nobs)"
   ]
  },
  {
   "cell_type": "code",
   "execution_count": 10,
   "metadata": {},
   "outputs": [
    {
     "name": "stdout",
     "output_type": "stream",
     "text": [
      "Manual Z-value: 0.0\n",
      "Manual p-value: 1.0\n",
      "Library Z-value: 0.0\n",
      "Library p-value: 1.0\n"
     ]
    }
   ],
   "source": [
    "# Display the manual results\n",
    "print(f\"Manual Z-value: {z_manual}\")\n",
    "print(f\"Manual p-value: {p_value_manual}\")\n",
    "\n",
    "# Display the results from statsmodels\n",
    "print(f\"Library Z-value: {z_stat}\")\n",
    "print(f\"Library p-value: {p_value_lib}\")"
   ]
  }
 ],
 "metadata": {
  "kernelspec": {
   "display_name": "Python 3",
   "language": "python",
   "name": "python3"
  },
  "language_info": {
   "codemirror_mode": {
    "name": "ipython",
    "version": 3
   },
   "file_extension": ".py",
   "mimetype": "text/x-python",
   "name": "python",
   "nbconvert_exporter": "python",
   "pygments_lexer": "ipython3",
   "version": "3.12.5"
  }
 },
 "nbformat": 4,
 "nbformat_minor": 2
}
