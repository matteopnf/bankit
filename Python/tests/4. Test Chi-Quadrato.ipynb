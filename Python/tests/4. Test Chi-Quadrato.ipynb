{
 "cells": [
  {
   "cell_type": "markdown",
   "metadata": {},
   "source": [
    "Test Chi-Squared"
   ]
  },
  {
   "cell_type": "code",
   "execution_count": 3,
   "metadata": {},
   "outputs": [],
   "source": [
    "import numpy as np\n",
    "import scipy.stats as stats"
   ]
  },
  {
   "cell_type": "code",
   "execution_count": 4,
   "metadata": {},
   "outputs": [],
   "source": [
    "# Observed frequencies in each category\n",
    "observed_frequencies = np.array([30, 40, 50, 80])\n",
    "\n",
    "# Expected probabilities for each category under H0\n",
    "expected_probabilities = np.array([0.2, 0.3, 0.3, 0.2])"
   ]
  },
  {
   "cell_type": "code",
   "execution_count": 11,
   "metadata": {},
   "outputs": [
    {
     "name": "stdout",
     "output_type": "stream",
     "text": [
      "N: 200\n",
      "[40. 60. 60. 40.]\n",
      "Chi-squared statistic (by hand): 50.833\n"
     ]
    }
   ],
   "source": [
    "# Total number of observations\n",
    "n = np.sum(observed_frequencies)\n",
    "print(\"N:\", n)\n",
    "\n",
    "# Expected frequencies under H0\n",
    "expected_frequencies = n * expected_probabilities\n",
    "print(expected_frequencies)\n",
    "\n",
    "# Calculate the Chi-squared statistic by hand\n",
    "chi_squared_statistic = np.sum((observed_frequencies - expected_frequencies) ** 2 / expected_frequencies)\n",
    "print(f\"Chi-squared statistic (by hand): {round(chi_squared_statistic, 3)}\")"
   ]
  },
  {
   "cell_type": "code",
   "execution_count": 12,
   "metadata": {},
   "outputs": [
    {
     "name": "stdout",
     "output_type": "stream",
     "text": [
      "P-value: 5.308853356922327e-11\n"
     ]
    }
   ],
   "source": [
    "# Degrees of freedom (number of categories - 1)\n",
    "degrees_of_freedom = len(observed_frequencies) - 1\n",
    "\n",
    "# Get the critical value at a significance level (e.g., alpha = 0.05)\n",
    "#alpha = 0.05\n",
    "#critical_value = stats.chi2.ppf(1 - alpha, degrees_of_freedom)\n",
    "\n",
    "# Calculate the p-value\n",
    "p_value = 1 - stats.chi2.cdf(chi_squared_statistic, degrees_of_freedom)\n",
    "\n",
    "#print(f\"Critical value at alpha = {alpha}: {critical_value}\")\n",
    "print(f\"P-value: {p_value}\")"
   ]
  },
  {
   "cell_type": "code",
   "execution_count": 6,
   "metadata": {},
   "outputs": [
    {
     "name": "stdout",
     "output_type": "stream",
     "text": [
      "Chi-squared statistic (by hand): 50.833333333333336\n",
      "Critical value at alpha = 0.05: 7.814727903251179\n",
      "P-value: 5.308853356922327e-11\n",
      "Chi-squared statistic (scipy): 50.833333333333336\n",
      "P-value (scipy): 5.308854866224734e-11\n"
     ]
    }
   ],
   "source": [
    "# Perform the Chi-squared test using scipy\n",
    "chi2_statistic_scipy, p_value_scipy = stats.chisquare(f_obs=observed_frequencies, f_exp=expected_frequencies)\n",
    "\n",
    "print(f\"Chi-squared statistic (scipy): {chi2_statistic_scipy}\")\n",
    "print(f\"P-value (scipy): {p_value_scipy}\")"
   ]
  }
 ],
 "metadata": {
  "kernelspec": {
   "display_name": "Python 3",
   "language": "python",
   "name": "python3"
  },
  "language_info": {
   "codemirror_mode": {
    "name": "ipython",
    "version": 3
   },
   "file_extension": ".py",
   "mimetype": "text/x-python",
   "name": "python",
   "nbconvert_exporter": "python",
   "pygments_lexer": "ipython3",
   "version": "3.12.5"
  }
 },
 "nbformat": 4,
 "nbformat_minor": 2
}
