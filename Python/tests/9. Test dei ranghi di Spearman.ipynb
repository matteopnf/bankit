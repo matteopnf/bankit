{
 "cells": [
  {
   "cell_type": "code",
   "execution_count": 6,
   "metadata": {},
   "outputs": [],
   "source": [
    "import numpy as np\n",
    "import scipy.stats as stats"
   ]
  },
  {
   "cell_type": "code",
   "execution_count": 7,
   "metadata": {},
   "outputs": [],
   "source": [
    "# Example data\n",
    "X = [10, 20, 30, 40, 50]\n",
    "Y = [12, 24, 33, 39, 54]"
   ]
  },
  {
   "cell_type": "code",
   "execution_count": 8,
   "metadata": {},
   "outputs": [],
   "source": [
    "n = len(X)\n",
    "\n",
    "# Calculate ranks\n",
    "R = stats.rankdata(X)\n",
    "S = stats.rankdata(Y)\n",
    "\n",
    "# Mean rank\n",
    "mean_rank = (n + 1) / 2"
   ]
  },
  {
   "cell_type": "code",
   "execution_count": 9,
   "metadata": {},
   "outputs": [],
   "source": [
    "# Calculate Rs using the provided formula\n",
    "numerator = np.sum((R - mean_rank) * (S - mean_rank))\n",
    "denominator = np.sqrt(np.sum((R - mean_rank)**2) * np.sum((S - mean_rank)**2))\n",
    "Rs = numerator / denominator\n",
    "\n",
    "# Calculate Tn\n",
    "Tn = Rs * np.sqrt(n - 1)\n",
    "\n",
    "# Manual calculation\n",
    "Rs_manual, Tn_manual = Rs, Tn"
   ]
  },
  {
   "cell_type": "code",
   "execution_count": 10,
   "metadata": {},
   "outputs": [
    {
     "name": "stdout",
     "output_type": "stream",
     "text": [
      "Manual Spearman's Rank Correlation Rs: 1.0\n",
      "Manual Test Statistic Tn: 2.0\n",
      "Scipy Spearman's Rank Correlation Rs: 0.9999999999999999\n",
      "Scipy p-value: 1.4042654220543672e-24\n"
     ]
    }
   ],
   "source": [
    "# Using scipy to get the correlation and p-value\n",
    "Rs_scipy, p_value = stats.spearmanr(X, Y)\n",
    "\n",
    "# Compare results\n",
    "print(f\"Manual Spearman's Rank Correlation Rs: {Rs_manual}\")\n",
    "print(f\"Manual Test Statistic Tn: {Tn_manual}\")\n",
    "print(f\"Scipy Spearman's Rank Correlation Rs: {Rs_scipy}\")\n",
    "print(f\"Scipy p-value: {p_value}\")"
   ]
  }
 ],
 "metadata": {
  "kernelspec": {
   "display_name": "Python 3",
   "language": "python",
   "name": "python3"
  },
  "language_info": {
   "codemirror_mode": {
    "name": "ipython",
    "version": 3
   },
   "file_extension": ".py",
   "mimetype": "text/x-python",
   "name": "python",
   "nbconvert_exporter": "python",
   "pygments_lexer": "ipython3",
   "version": "3.12.5"
  }
 },
 "nbformat": 4,
 "nbformat_minor": 2
}
