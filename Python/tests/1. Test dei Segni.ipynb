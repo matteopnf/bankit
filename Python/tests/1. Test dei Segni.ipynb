{
 "cells": [
  {
   "cell_type": "markdown",
   "metadata": {},
   "source": [
    "Sign test"
   ]
  },
  {
   "cell_type": "code",
   "execution_count": 31,
   "metadata": {},
   "outputs": [],
   "source": [
    "import numpy as np\n",
    "import scipy.stats as stats\n",
    "import pandas as pd"
   ]
  },
  {
   "cell_type": "code",
   "execution_count": 32,
   "metadata": {},
   "outputs": [
    {
     "data": {
      "text/html": [
       "<div>\n",
       "<style scoped>\n",
       "    .dataframe tbody tr th:only-of-type {\n",
       "        vertical-align: middle;\n",
       "    }\n",
       "\n",
       "    .dataframe tbody tr th {\n",
       "        vertical-align: top;\n",
       "    }\n",
       "\n",
       "    .dataframe thead th {\n",
       "        text-align: right;\n",
       "    }\n",
       "</style>\n",
       "<table border=\"1\" class=\"dataframe\">\n",
       "  <thead>\n",
       "    <tr style=\"text-align: right;\">\n",
       "      <th></th>\n",
       "      <th>x</th>\n",
       "      <th>y</th>\n",
       "    </tr>\n",
       "  </thead>\n",
       "  <tbody>\n",
       "    <tr>\n",
       "      <th>0</th>\n",
       "      <td>0.496714</td>\n",
       "      <td>-0.463418</td>\n",
       "    </tr>\n",
       "    <tr>\n",
       "      <th>1</th>\n",
       "      <td>-0.138264</td>\n",
       "      <td>-0.465730</td>\n",
       "    </tr>\n",
       "    <tr>\n",
       "      <th>2</th>\n",
       "      <td>0.647689</td>\n",
       "      <td>0.241962</td>\n",
       "    </tr>\n",
       "    <tr>\n",
       "      <th>3</th>\n",
       "      <td>1.523030</td>\n",
       "      <td>-1.913280</td>\n",
       "    </tr>\n",
       "    <tr>\n",
       "      <th>4</th>\n",
       "      <td>-0.234153</td>\n",
       "      <td>-1.724918</td>\n",
       "    </tr>\n",
       "    <tr>\n",
       "      <th>5</th>\n",
       "      <td>-0.234137</td>\n",
       "      <td>-0.562288</td>\n",
       "    </tr>\n",
       "    <tr>\n",
       "      <th>6</th>\n",
       "      <td>1.579213</td>\n",
       "      <td>-1.012831</td>\n",
       "    </tr>\n",
       "    <tr>\n",
       "      <th>7</th>\n",
       "      <td>0.767435</td>\n",
       "      <td>0.314247</td>\n",
       "    </tr>\n",
       "    <tr>\n",
       "      <th>8</th>\n",
       "      <td>-0.469474</td>\n",
       "      <td>-0.908024</td>\n",
       "    </tr>\n",
       "    <tr>\n",
       "      <th>9</th>\n",
       "      <td>0.542560</td>\n",
       "      <td>-1.412304</td>\n",
       "    </tr>\n",
       "  </tbody>\n",
       "</table>\n",
       "</div>"
      ],
      "text/plain": [
       "          x         y\n",
       "0  0.496714 -0.463418\n",
       "1 -0.138264 -0.465730\n",
       "2  0.647689  0.241962\n",
       "3  1.523030 -1.913280\n",
       "4 -0.234153 -1.724918\n",
       "5 -0.234137 -0.562288\n",
       "6  1.579213 -1.012831\n",
       "7  0.767435  0.314247\n",
       "8 -0.469474 -0.908024\n",
       "9  0.542560 -1.412304"
      ]
     },
     "metadata": {},
     "output_type": "display_data"
    }
   ],
   "source": [
    "np.random.seed(42)  # For reproducibility\n",
    "x = np.random.randn(10)  # Sample x from a standard normal distribution\n",
    "y = np.random.randn(10)  # Sample y from a standard normal distribution\n",
    "dta = pd.DataFrame({'x': x, 'y': y})\n",
    "\n",
    "display(dta)"
   ]
  },
  {
   "cell_type": "code",
   "execution_count": 33,
   "metadata": {},
   "outputs": [
    {
     "name": "stdout",
     "output_type": "stream",
     "text": [
      "N° Positive differences:  10\n",
      "N° Negative differences:  0\n",
      "Units to test:  10\n"
     ]
    }
   ],
   "source": [
    "# Compute the differences between x and y\n",
    "differences = x - y\n",
    "dta['diff'] = dta['x'] - dta['y']\n",
    "\n",
    "# Remove zero differences (not counted in the sign test)\n",
    "non_zero_diff = differences[differences != 0]\n",
    "\n",
    "# Count the number of positive and negative signs\n",
    "n_positive = np.sum(non_zero_diff > 0)\n",
    "n_negative = np.sum(non_zero_diff < 0)\n",
    "\n",
    "\n",
    "# Total number of non-zero differences\n",
    "n = len(non_zero_diff)\n",
    "print(\"N° Positive differences: \", n_positive)\n",
    "print(\"N° Negative differences: \",n_negative)\n",
    "print(\"Units to test: \", n)"
   ]
  },
  {
   "cell_type": "code",
   "execution_count": 34,
   "metadata": {},
   "outputs": [
    {
     "name": "stdout",
     "output_type": "stream",
     "text": [
      "Statistic:  0\n",
      "P-value:  0.1953125 %\n"
     ]
    }
   ],
   "source": [
    "# The test statistic Tn is the smaller of the two counts\n",
    "Tn = min(n_positive, n_negative)\n",
    "print(\"Statistic: \", Tn)\n",
    "\n",
    "# Calculate the p-value using the binomial test\n",
    "p_value_manual = 2 * stats.binom.cdf(Tn, n, 0.5)  # Two-sided test\n",
    "print(\"P-value: \", p_value_manual * 100, \"%\")"
   ]
  },
  {
   "cell_type": "code",
   "execution_count": 35,
   "metadata": {},
   "outputs": [
    {
     "name": "stdout",
     "output_type": "stream",
     "text": [
      "Step-by-Step Test Statistic (Tn): 0\n",
      "Step-by-Step P-value: 0.001953125\n",
      "Library Test Statistic: 1.0\n",
      "Library P-value: 0.001953125\n",
      "The step-by-step and library results match.\n"
     ]
    }
   ],
   "source": [
    "result = stats.binomtest(n_positive, n=n, p=0.5, alternative='two-sided')\n",
    "statistic_library = result.statistic\n",
    "p_value_library = result.pvalue\n",
    "\n",
    "# Output the results\n",
    "print(\"Step-by-Step Test Statistic (Tn):\", Tn)\n",
    "print(\"Step-by-Step P-value:\", p_value_manual)\n",
    "print(\"Library Test Statistic:\", statistic_library)\n",
    "print(\"Library P-value:\", p_value_library)\n",
    "\n",
    "# Verify that the results are the same\n",
    "if np.isclose(p_value_manual, p_value_library, atol=1e-8):\n",
    "    print(\"The step-by-step and library results match.\")\n",
    "else:\n",
    "    print(\"There is a discrepancy between the step-by-step and library results.\")"
   ]
  }
 ],
 "metadata": {
  "kernelspec": {
   "display_name": "Python 3",
   "language": "python",
   "name": "python3"
  },
  "language_info": {
   "codemirror_mode": {
    "name": "ipython",
    "version": 3
   },
   "file_extension": ".py",
   "mimetype": "text/x-python",
   "name": "python",
   "nbconvert_exporter": "python",
   "pygments_lexer": "ipython3",
   "version": "3.12.5"
  }
 },
 "nbformat": 4,
 "nbformat_minor": 2
}
