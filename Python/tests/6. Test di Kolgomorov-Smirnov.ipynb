{
 "cells": [
  {
   "cell_type": "markdown",
   "metadata": {},
   "source": [
    "Sign test"
   ]
  },
  {
   "cell_type": "code",
   "execution_count": 1,
   "metadata": {},
   "outputs": [
    {
     "name": "stdout",
     "output_type": "stream",
     "text": [
      "Manual One-Sample K-S Test Statistic: 0.10357070563896065\n",
      "Manual Two-Sample K-S Test Statistic: 0.34\n",
      "scipy One-Sample K-S Test Statistic: 0.10357070563896065, p-value: 0.2180555337851624\n",
      "scipy Two-Sample K-S Test Statistic: 0.34, p-value: 1.605714367105695e-05\n",
      "Manual and scipy results match.\n"
     ]
    }
   ],
   "source": [
    "import numpy as np\n",
    "import scipy.stats as stats\n",
    "\n",
    "# Step 1: Generate Samples\n",
    "np.random.seed(42)\n",
    "sample1 = np.random.normal(0, 1, 100)  # Sample from a standard normal distribution\n",
    "sample2 = np.random.normal(0.5, 1, 100)  # Sample from a normal distribution with a different mean\n",
    "\n",
    "# Step 2: Sort the Samples\n",
    "sample1_sorted = np.sort(sample1)\n",
    "sample2_sorted = np.sort(sample2)\n",
    "\n",
    "# Step 3: Compute the Empirical Distribution Function (EDF) for Sample1\n",
    "n = len(sample1_sorted)\n",
    "edf_sample1 = np.arange(1, n+1) / n\n",
    "\n",
    "# Step 4: Compute the Theoretical CDF for a Standard Normal Distribution\n",
    "cdf_theoretical = stats.norm.cdf(sample1_sorted, 0, 1)\n",
    "\n",
    "# Step 5: Compute the One-Sample K-S Test Statistic by Hand\n",
    "D_n = np.max(np.abs(edf_sample1 - cdf_theoretical))\n",
    "print(f\"Manual One-Sample K-S Test Statistic: {D_n}\")\n",
    "\n",
    "# Step 6: Compute the Empirical Distribution Function (EDF) for Sample2\n",
    "m = len(sample2_sorted)\n",
    "edf_sample2 = np.arange(1, m+1) / m\n",
    "\n",
    "# Step 7: Combine both samples and compute the Two-Sample K-S Test Statistic by Hand\n",
    "combined_sample = np.sort(np.concatenate((sample1_sorted, sample2_sorted)))\n",
    "edf_sample1_combined = np.searchsorted(sample1_sorted, combined_sample, side='right') / n\n",
    "edf_sample2_combined = np.searchsorted(sample2_sorted, combined_sample, side='right') / m\n",
    "\n",
    "D_nm = np.max(np.abs(edf_sample1_combined - edf_sample2_combined))\n",
    "print(f\"Manual Two-Sample K-S Test Statistic: {D_nm}\")\n",
    "\n",
    "# Step 8: Compare with scipy library results\n",
    "\n",
    "# One-Sample K-S test using scipy\n",
    "D_n_scipy, p_value_1 = stats.kstest(sample1, 'norm')\n",
    "print(f\"scipy One-Sample K-S Test Statistic: {D_n_scipy}, p-value: {p_value_1}\")\n",
    "\n",
    "# Two-Sample K-S test using scipy\n",
    "D_nm_scipy, p_value_2 = stats.ks_2samp(sample1, sample2)\n",
    "print(f\"scipy Two-Sample K-S Test Statistic: {D_nm_scipy}, p-value: {p_value_2}\")\n",
    "\n",
    "# Step 9: Check if manual and scipy results match\n",
    "if np.isclose(D_n, D_n_scipy) and np.isclose(D_nm, D_nm_scipy):\n",
    "    print(\"Manual and scipy results match.\")\n",
    "else:\n",
    "    print(\"Manual and scipy results do not match.\")"
   ]
  }
 ],
 "metadata": {
  "kernelspec": {
   "display_name": "Python 3",
   "language": "python",
   "name": "python3"
  },
  "language_info": {
   "codemirror_mode": {
    "name": "ipython",
    "version": 3
   },
   "file_extension": ".py",
   "mimetype": "text/x-python",
   "name": "python",
   "nbconvert_exporter": "python",
   "pygments_lexer": "ipython3",
   "version": "3.12.5"
  }
 },
 "nbformat": 4,
 "nbformat_minor": 2
}
