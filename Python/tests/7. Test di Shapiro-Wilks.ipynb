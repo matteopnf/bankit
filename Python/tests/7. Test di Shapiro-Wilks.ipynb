{
 "cells": [
  {
   "cell_type": "markdown",
   "metadata": {},
   "source": [
    "Shapiro-Wilks Test"
   ]
  },
  {
   "cell_type": "code",
   "execution_count": 10,
   "metadata": {},
   "outputs": [],
   "source": [
    "import numpy as np\n",
    "from scipy.stats import shapiro\n",
    "from scipy.stats import norm"
   ]
  },
  {
   "cell_type": "code",
   "execution_count": 11,
   "metadata": {},
   "outputs": [
    {
     "name": "stdout",
     "output_type": "stream",
     "text": [
      "Data : [12.7 15.1 14.2 10.3 18.4 11.2 17.5]\n",
      "Sorted data:  [10.3 11.2 12.7 14.2 15.1 17.5 18.4]\n"
     ]
    }
   ],
   "source": [
    "# Sample data\n",
    "data = np.array([12.7, 15.1, 14.2, 10.3, 18.4, 11.2, 17.5])\n",
    "data_sorted = np.sort(data)\n",
    "mean_data = np.mean(data)\n",
    "print(\"Data :\", data)\n",
    "print(\"Sorted data: \", data_sorted)"
   ]
  },
  {
   "cell_type": "markdown",
   "metadata": {},
   "source": [
    "Get a(i) coefficients (element of Shapiro-Wilks statistic):"
   ]
  },
  {
   "cell_type": "code",
   "execution_count": 12,
   "metadata": {},
   "outputs": [],
   "source": [
    "# Step 3: Get the expected values under normal distribution\n",
    "n = len(data_sorted)\n",
    "expected_values = norm.ppf((np.arange(1, n + 1) - 0.375) / (n + 0.25))\n",
    "\n",
    "# Step 4: Compute the a(i) coefficients (using a specific approximation)\n",
    "a_i = expected_values / np.sqrt(np.sum(expected_values ** 2))"
   ]
  },
  {
   "cell_type": "markdown",
   "metadata": {},
   "source": [
    "Get the Shapiro-Wilks statistic:"
   ]
  },
  {
   "cell_type": "code",
   "execution_count": 13,
   "metadata": {},
   "outputs": [],
   "source": [
    "# Step 5: Compute W statistic manually\n",
    "numerator = (np.sum(a_i * data_sorted)) ** 2\n",
    "denominator = np.sum((data_sorted - mean_data) ** 2)\n",
    "W_hand = numerator / denominator"
   ]
  },
  {
   "cell_type": "code",
   "execution_count": 14,
   "metadata": {},
   "outputs": [
    {
     "name": "stdout",
     "output_type": "stream",
     "text": [
      "Manual calculation of W: 0.97292\n",
      "Scipy calculation of W: 0.95368\n",
      "Scipy p-value: 0.76307\n",
      "There is a discrepancy between the manually calculated W and the scipy calculated W.\n"
     ]
    }
   ],
   "source": [
    "# Step 6: Compute W and p-value using scipy for comparison\n",
    "W_scipy, p_value = shapiro(data)\n",
    "\n",
    "# Step 7: Compare the results\n",
    "print(f\"Manual calculation of W: {W_hand:.5f}\")\n",
    "print(f\"Scipy calculation of W: {W_scipy:.5f}\")\n",
    "print(f\"Scipy p-value: {p_value:.5f}\")\n",
    "\n",
    "# Step 8: Verify whether the values match\n",
    "if np.isclose(W_hand, W_scipy, atol=1e-5):\n",
    "    print(\"The manually calculated W matches the scipy calculated W.\")\n",
    "else:\n",
    "    print(\"There is a discrepancy between the manually calculated W and the scipy calculated W.\")"
   ]
  }
 ],
 "metadata": {
  "kernelspec": {
   "display_name": "Python 3",
   "language": "python",
   "name": "python3"
  },
  "language_info": {
   "codemirror_mode": {
    "name": "ipython",
    "version": 3
   },
   "file_extension": ".py",
   "mimetype": "text/x-python",
   "name": "python",
   "nbconvert_exporter": "python",
   "pygments_lexer": "ipython3",
   "version": "3.12.5"
  }
 },
 "nbformat": 4,
 "nbformat_minor": 2
}
