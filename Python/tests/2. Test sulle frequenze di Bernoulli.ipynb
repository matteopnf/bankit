{
 "cells": [
  {
   "cell_type": "markdown",
   "metadata": {},
   "source": [
    "Bernoulli test"
   ]
  },
  {
   "cell_type": "code",
   "execution_count": 4,
   "metadata": {},
   "outputs": [],
   "source": [
    "import numpy as np\n",
    "from scipy.stats import norm\n",
    "import statsmodels.api as sm"
   ]
  },
  {
   "cell_type": "code",
   "execution_count": 5,
   "metadata": {},
   "outputs": [],
   "source": [
    "# Sample data\n",
    "n = 100  # Sample size\n",
    "successes = 60  # Number of successes observed\n",
    "\n",
    "theta_0 = 0.5  # Null hypothesis proportion"
   ]
  },
  {
   "cell_type": "code",
   "execution_count": 6,
   "metadata": {},
   "outputs": [],
   "source": [
    "# Step 1: Manual computation of the test statistic\n",
    "F_n = successes / n  # Sample proportion\n",
    "Z_n = (F_n - theta_0) / np.sqrt(theta_0 * (1 - theta_0) / n)  # Z-score\n",
    "# NB: standardizzazione usando l'ipotesi nulla, a denominatore la std. campionaria di una Bernoulli\n",
    "\n",
    "# Step 2: Compute the p-value for the test\n",
    "# For a two-sided test\n",
    "p_value_manual = 2 * (1 - norm.cdf(abs(Z_n)))\n",
    "\n",
    "# For a one-sided test (right-tailed)\n",
    "# p_value_manual = 1 - norm.cdf(Z_n)\n",
    "\n",
    "# For a one-sided test (left-tailed)\n",
    "# p_value_manual = norm.cdf(Z_n)"
   ]
  },
  {
   "cell_type": "code",
   "execution_count": 7,
   "metadata": {},
   "outputs": [
    {
     "name": "stdout",
     "output_type": "stream",
     "text": [
      "Mismatch: Z-scores do not match!\n",
      "Manual Z-score: 1.9999999999999996, Library Z-score: 2.0412414523193148\n",
      "Mismatch: P-values do not match!\n",
      "Manual P-value: 0.04550026389635842, Library P-value: 0.0412268333371637\n"
     ]
    }
   ],
   "source": [
    "# Step 3: Use statsmodels to perform the same test\n",
    "# Note: sm.stats.proportions_ztest returns z-statistic and p-value\n",
    "count = successes\n",
    "result = sm.stats.proportions_ztest(count, n, value=theta_0, alternative='two-sided')\n",
    "Z_lib, p_value_lib = result\n",
    "\n",
    "# Verification step using if not statements\n",
    "if not np.isclose(Z_n, Z_lib):\n",
    "    print(\"Mismatch: Z-scores do not match!\")\n",
    "    print(f\"Manual Z-score: {Z_n}, Library Z-score: {Z_lib}\")\n",
    "else:\n",
    "    print(\"Z-scores match.\")\n",
    "\n",
    "if not np.isclose(p_value_manual, p_value_lib):\n",
    "    print(\"Mismatch: P-values do not match!\")\n",
    "    print(f\"Manual P-value: {p_value_manual}, Library P-value: {p_value_lib}\")\n",
    "else:\n",
    "    print(\"P-values match.\")"
   ]
  }
 ],
 "metadata": {
  "kernelspec": {
   "display_name": "Python 3",
   "language": "python",
   "name": "python3"
  },
  "language_info": {
   "codemirror_mode": {
    "name": "ipython",
    "version": 3
   },
   "file_extension": ".py",
   "mimetype": "text/x-python",
   "name": "python",
   "nbconvert_exporter": "python",
   "pygments_lexer": "ipython3",
   "version": "3.12.5"
  }
 },
 "nbformat": 4,
 "nbformat_minor": 2
}
