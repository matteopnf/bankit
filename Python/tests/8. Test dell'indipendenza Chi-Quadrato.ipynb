{
 "cells": [
  {
   "cell_type": "markdown",
   "metadata": {},
   "source": [
    "Chi-Squared contingency Test"
   ]
  },
  {
   "cell_type": "code",
   "execution_count": 7,
   "metadata": {},
   "outputs": [],
   "source": [
    "import numpy as np\n",
    "from scipy.stats import chi2\n",
    "from scipy.stats import chi2_contingency"
   ]
  },
  {
   "cell_type": "code",
   "execution_count": 8,
   "metadata": {},
   "outputs": [],
   "source": [
    "# Sample data: observed frequencies in a 4x4 contingency table\n",
    "observed = np.array([[15, 20, 3, 30],\n",
    "                     [30, 55, 20, 15],\n",
    "                     [25, 30, 45, 20],\n",
    "                     [20, 15, 30, 25]])\n",
    "\n",
    "# Step 1: Calculate the marginal sums\n",
    "n_i = observed.sum(axis = 1)  # Row sums: it sums all the elements in a row, for each row\n",
    "n_j = observed.sum(axis = 0)  # Column sums: it sums all the elements in a column, for each column\n",
    "n = observed.sum()  # Total sum: it sums all the elemnts in the contingency table"
   ]
  },
  {
   "cell_type": "code",
   "execution_count": 16,
   "metadata": {},
   "outputs": [
    {
     "name": "stdout",
     "output_type": "stream",
     "text": [
      "New table:\n",
      " [[15.37688442 20.50251256 16.74371859 15.37688442]\n",
      " [27.13567839 36.18090452 29.54773869 27.13567839]\n",
      " [27.13567839 36.18090452 29.54773869 27.13567839]\n",
      " [20.35175879 27.13567839 22.16080402 20.35175879]]\n",
      "\n",
      "Chi-statistics:  64.26189133060632\n"
     ]
    }
   ],
   "source": [
    "expected = np.zeros_like(observed, dtype = float)\n",
    "for i in range(len(n_i)):  # Iterate over rows\n",
    "    for j in range(len(n_j)):  # Iterate over columns\n",
    "        expected[i, j] = (n_i[i] * n_j[j]) / n\n",
    "print(\"New table:\\n\", expected)\n",
    "\n",
    "# Step 3: Calculate the Chi-Square test statistic by hand\n",
    "chi2_stat = ((observed - expected)**2 / expected).sum()\n",
    "print(\"\\nChi-statistics: \", chi2_stat) "
   ]
  },
  {
   "cell_type": "code",
   "execution_count": 4,
   "metadata": {},
   "outputs": [
    {
     "name": "stdout",
     "output_type": "stream",
     "text": [
      "Chi-Square statistic (by hand): 22.22222222222222\n",
      "Degrees of freedom (by hand): 9\n",
      "P-value (by hand): 0.008200748379270095\n",
      "\n",
      "Chi-Square statistic (scipy): 22.22222222222222\n",
      "Degrees of freedom (scipy): 9\n",
      "P-value (scipy): 0.008200748379270048\n",
      "\n",
      "Expected frequencies (scipy):\n",
      " [[22.5 22.5 22.5 22.5]\n",
      " [22.5 22.5 22.5 22.5]\n",
      " [22.5 22.5 22.5 22.5]\n",
      " [22.5 22.5 22.5 22.5]]\n",
      "\n",
      "The manual calculation matches the scipy output!\n"
     ]
    }
   ],
   "source": [
    "# Degrees of freedom\n",
    "df_by_hand = (observed.shape[0] - 1) * (observed.shape[1] - 1)\n",
    "\n",
    "# Step 4: Calculate the p-value by hand\n",
    "p_value_by_hand = 1 - chi2.cdf(chi2_statistic_by_hand, df_by_hand)"
   ]
  },
  {
   "cell_type": "code",
   "execution_count": null,
   "metadata": {},
   "outputs": [],
   "source": [
    "# Step 5: Using scipy to perform the chi-square test\n",
    "chi2_statistic_lib, p_value_lib, df_lib, expected_lib = chi2_contingency(observed)\n",
    "\n",
    "# Print the results\n",
    "print(\"Chi-Square statistic (by hand):\", chi2_statistic_by_hand)\n",
    "print(\"Degrees of freedom (by hand):\", df_by_hand)\n",
    "print(\"P-value (by hand):\", p_value_by_hand)\n",
    "print(\"\\nChi-Square statistic (scipy):\", chi2_statistic_lib)\n",
    "print(\"Degrees of freedom (scipy):\", df_lib)\n",
    "print(\"P-value (scipy):\", p_value_lib)\n",
    "print(\"\\nExpected frequencies (scipy):\\n\", expected_lib)\n",
    "\n",
    "# Step 6: Check if the manual calculation matches the library output\n",
    "if (np.isclose(chi2_statistic_by_hand, chi2_statistic_lib) and \n",
    "    df_by_hand == df_lib and \n",
    "    np.isclose(p_value_by_hand, p_value_lib)):\n",
    "    print(\"\\nThe manual calculation matches the scipy output!\")\n",
    "else:\n",
    "    print(\"\\nThere is a discrepancy between the manual calculation and the scipy output.\")"
   ]
  }
 ],
 "metadata": {
  "kernelspec": {
   "display_name": "Python 3",
   "language": "python",
   "name": "python3"
  },
  "language_info": {
   "codemirror_mode": {
    "name": "ipython",
    "version": 3
   },
   "file_extension": ".py",
   "mimetype": "text/x-python",
   "name": "python",
   "nbconvert_exporter": "python",
   "pygments_lexer": "ipython3",
   "version": "3.12.5"
  }
 },
 "nbformat": 4,
 "nbformat_minor": 2
}
